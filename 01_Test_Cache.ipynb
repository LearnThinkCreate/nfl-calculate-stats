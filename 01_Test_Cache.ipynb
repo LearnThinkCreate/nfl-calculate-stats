{
 "cells": [
  {
   "cell_type": "code",
   "execution_count": 1,
   "metadata": {},
   "outputs": [],
   "source": [
    "from utils_data import load_playstats\n",
    "from pathlib import Path"
   ]
  },
  {
   "cell_type": "code",
   "execution_count": 2,
   "metadata": {},
   "outputs": [
    {
     "name": "stdout",
     "output_type": "stream",
     "text": [
      "Deleting file\n",
      "Data loaded and saved successfully.\n",
      "\n"
     ]
    }
   ],
   "source": [
    "season = 2024\n",
    "file_path = Path(f\"data/playstats/playstats_{season}.parquet\")\n",
    "if file_path.exists():\n",
    "    print(\"Deleting file\")\n",
    "    file_path.unlink()\n",
    "ps = load_playstats(seasons=season)"
   ]
  }
 ],
 "metadata": {
  "kernelspec": {
   "display_name": "nfl",
   "language": "python",
   "name": "python3"
  },
  "language_info": {
   "codemirror_mode": {
    "name": "ipython",
    "version": 3
   },
   "file_extension": ".py",
   "mimetype": "text/x-python",
   "name": "python",
   "nbconvert_exporter": "python",
   "pygments_lexer": "ipython3",
   "version": "3.9.21"
  }
 },
 "nbformat": 4,
 "nbformat_minor": 2
}
