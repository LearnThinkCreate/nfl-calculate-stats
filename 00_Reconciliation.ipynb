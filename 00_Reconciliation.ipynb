{
 "cells": [
  {
   "cell_type": "code",
   "execution_count": 1,
   "metadata": {},
   "outputs": [],
   "source": [
    "import pandas as pd # type: ignore\n",
    "import nfl_data_py as nfl # type: ignore\n",
    "from utils_data import load_pbp\n",
    "from calculate_stats import calculate_stats"
   ]
  },
  {
   "cell_type": "code",
   "execution_count": 2,
   "metadata": {},
   "outputs": [],
   "source": [
    "# display all columns\n",
    "pd.set_option('display.max_columns', None)\n",
    "# Set the display option to show 100 rows\n",
    "pd.set_option('display.max_rows', 50)\n",
    "pd.set_option('display.max_colwidth', 1000)"
   ]
  },
  {
   "cell_type": "code",
   "execution_count": 3,
   "metadata": {},
   "outputs": [],
   "source": [
    "players = nfl.import_players()"
   ]
  },
  {
   "cell_type": "markdown",
   "metadata": {},
   "source": [
    "# Recon"
   ]
  },
  {
   "cell_type": "code",
   "execution_count": 4,
   "metadata": {},
   "outputs": [],
   "source": [
    "eagles_players = players.loc[players['display_name'].isin(['Jalen Hurts', 'A.J. Brown', 'Saquon Barkley']), ['gsis_id', 'display_name']]"
   ]
  },
  {
   "cell_type": "code",
   "execution_count": 5,
   "metadata": {},
   "outputs": [
    {
     "data": {
      "text/plain": [
       "('00-0036389', '00-0035676', '00-0034844')"
      ]
     },
     "execution_count": 5,
     "metadata": {},
     "output_type": "execute_result"
    }
   ],
   "source": [
    "hurts_id = eagles_players.loc[eagles_players['display_name'] == 'Jalen Hurts', 'gsis_id'].values[0]\n",
    "brown_id = eagles_players.loc[eagles_players['display_name'] == 'A.J. Brown', 'gsis_id'].values[0]\n",
    "barkley_id = eagles_players.loc[eagles_players['display_name'] == 'Saquon Barkley', 'gsis_id'].values[0]\n",
    "hurts_id, brown_id, barkley_id"
   ]
  },
  {
   "cell_type": "code",
   "execution_count": 6,
   "metadata": {},
   "outputs": [],
   "source": [
    "def peform_recon(local, nfl, recon_cols):\n",
    "    for col in recon_cols:\n",
    "        val1 = local[col].values[0]\n",
    "        val2 = nfl[col].values[0]\n",
    "        if pd.isna(val1):\n",
    "            val1 = 0\n",
    "        if pd.isna(val2):\n",
    "            val2 = 0\n",
    "        if val1 != val2:\n",
    "            print(f\"Column: {col}, local: {val1}, nfl: {val2}\")\n"
   ]
  },
  {
   "cell_type": "code",
   "execution_count": 7,
   "metadata": {},
   "outputs": [],
   "source": [
    "pbp_data = load_pbp(2024)"
   ]
  },
  {
   "cell_type": "markdown",
   "metadata": {},
   "source": [
    "## Weekly Recon"
   ]
  },
  {
   "cell_type": "markdown",
   "metadata": {},
   "source": [
    "### Setup"
   ]
  },
  {
   "cell_type": "code",
   "execution_count": 8,
   "metadata": {},
   "outputs": [],
   "source": [
    "stats_week = calculate_stats(\n",
    "    seasons=2024,\n",
    "    summary_level='week',\n",
    "    stat_type='player',\n",
    "    season_type='ALL'\n",
    ")"
   ]
  },
  {
   "cell_type": "code",
   "execution_count": 9,
   "metadata": {},
   "outputs": [],
   "source": [
    "hurts_1 = stats_week[stats_week.player_id == hurts_id].head(1)\n",
    "brown_1 = stats_week[stats_week.player_id == brown_id].head(1)\n",
    "barkley_1 = stats_week[stats_week.player_id == barkley_id].head(1)\n"
   ]
  },
  {
   "cell_type": "code",
   "execution_count": 10,
   "metadata": {},
   "outputs": [
    {
     "name": "stdout",
     "output_type": "stream",
     "text": [
      "Downcasting floats.\n"
     ]
    }
   ],
   "source": [
    "stats24_weekly = nfl.import_weekly_data([2024])\n",
    "hurts_s1 = stats24_weekly[stats24_weekly.player_id == hurts_id].rename(columns={'recent_team': 'team'}).head(1)\n",
    "brown_s1 = stats24_weekly[stats24_weekly.player_id == brown_id].rename(columns={'recent_team': 'team'}).head(1)\n",
    "barkley_s1 = stats24_weekly[stats24_weekly.player_id == barkley_id].rename(columns={'recent_team': 'team'}).head(1)\n"
   ]
  },
  {
   "cell_type": "code",
   "execution_count": 11,
   "metadata": {},
   "outputs": [],
   "source": [
    "recon_cols = [\n",
    "    'player_id', 'player_name', 'team', 'season', 'week',\n",
    "    'season_type', 'opponent_team', 'completions', 'attempts',\n",
    "    'passing_yards', 'passing_tds', 'interceptions', 'sacks', 'sack_yards',\n",
    "    'sack_fumbles', 'sack_fumbles_lost', 'passing_air_yards',\n",
    "    'passing_yards_after_catch', 'passing_first_downs', 'passing_epa',\n",
    "    'passing_2pt_conversions', 'pacr', 'carries', 'rushing_yards',\n",
    "    'rushing_tds', 'rushing_fumbles', 'rushing_fumbles_lost',\n",
    "    'rushing_first_downs', 'rushing_epa', 'rushing_2pt_conversions',\n",
    "    'receptions', 'targets', 'receiving_yards', 'receiving_tds',\n",
    "    'receiving_fumbles', 'receiving_fumbles_lost', 'receiving_air_yards',\n",
    "    'receiving_yards_after_catch', 'receiving_first_downs', 'receiving_epa',\n",
    "    'receiving_2pt_conversions', 'racr', 'target_share', 'air_yards_share',\n",
    "    'wopr', 'special_teams_tds', \n",
    "]"
   ]
  },
  {
   "cell_type": "markdown",
   "metadata": {},
   "source": [
    "### Passing Recon"
   ]
  },
  {
   "cell_type": "code",
   "execution_count": 12,
   "metadata": {},
   "outputs": [],
   "source": [
    "hurts_1 = hurts_1[recon_cols]\n",
    "hurts_s1 = hurts_s1[recon_cols]"
   ]
  },
  {
   "cell_type": "code",
   "execution_count": 13,
   "metadata": {},
   "outputs": [
    {
     "name": "stdout",
     "output_type": "stream",
     "text": [
      "Column: passing_epa, local: 11.177172094966746, nfl: 11.17717170715332\n",
      "Column: pacr, local: 1.1729957805907174, nfl: 1.1729958057403564\n",
      "Column: rushing_epa, local: -6.401806405220533, nfl: -6.401806354522705\n"
     ]
    }
   ],
   "source": [
    "peform_recon(hurts_1, hurts_s1, recon_cols)"
   ]
  },
  {
   "cell_type": "markdown",
   "metadata": {},
   "source": [
    "### Rushing Recon"
   ]
  },
  {
   "cell_type": "code",
   "execution_count": 14,
   "metadata": {},
   "outputs": [
    {
     "name": "stdout",
     "output_type": "stream",
     "text": [
      "Column: rushing_epa, local: 0.01975117577239871, nfl: 0.019751176238059998\n",
      "Column: receiving_epa, local: 3.153489251038991, nfl: 3.153489351272583\n",
      "Column: racr, local: 1.15, nfl: 1.149999976158142\n",
      "Column: target_share, local: 0.06896551724137931, nfl: 0.06896551698446274\n",
      "Column: air_yards_share, local: 0.08438818565400844, nfl: 0.09259258955717087\n",
      "Column: wopr, local: 0.16252000581987486, nfl: 0.16826309263706207\n"
     ]
    }
   ],
   "source": [
    "barkley_1 = barkley_1[recon_cols]\n",
    "barkley_s1 = barkley_s1[recon_cols]\n",
    "peform_recon(barkley_1, barkley_s1, recon_cols)"
   ]
  },
  {
   "cell_type": "markdown",
   "metadata": {},
   "source": [
    "### Recieving Recon"
   ]
  },
  {
   "cell_type": "code",
   "execution_count": 15,
   "metadata": {},
   "outputs": [
    {
     "data": {
      "text/plain": [
       "('00-0036389', '00-0035676', '00-0034844')"
      ]
     },
     "execution_count": 15,
     "metadata": {},
     "output_type": "execute_result"
    }
   ],
   "source": [
    "hurts_id, brown_id, barkley_id"
   ]
  },
  {
   "cell_type": "code",
   "execution_count": 16,
   "metadata": {},
   "outputs": [
    {
     "name": "stdout",
     "output_type": "stream",
     "text": [
      "Column: receiving_epa, local: 5.005039690353442, nfl: 5.005039691925049\n",
      "Column: racr, local: 1.1442307692307692, nfl: 1.1442307233810425\n",
      "Column: target_share, local: 0.3448275862068966, nfl: 0.3448275923728943\n",
      "Column: air_yards_share, local: 0.4388185654008439, nfl: 0.48148149251937866\n",
      "Column: wopr, local: 0.8244143750909356, nfl: 0.8542784452438354\n"
     ]
    }
   ],
   "source": [
    "brown_1 = brown_1[recon_cols]\n",
    "brown_s1 = brown_s1[recon_cols]\n",
    "peform_recon(brown_1, brown_s1, recon_cols)"
   ]
  },
  {
   "cell_type": "markdown",
   "metadata": {},
   "source": [
    "## Yearly Recon"
   ]
  },
  {
   "cell_type": "code",
   "execution_count": 17,
   "metadata": {},
   "outputs": [],
   "source": [
    "stats_yearly = calculate_stats(\n",
    "    seasons=2024,\n",
    "    summary_level='season',\n",
    "    stat_type='player',\n",
    "    season_type='REG'\n",
    ")"
   ]
  },
  {
   "cell_type": "code",
   "execution_count": 18,
   "metadata": {},
   "outputs": [],
   "source": [
    "stats24_yearly = nfl.import_seasonal_data([2024])"
   ]
  },
  {
   "cell_type": "code",
   "execution_count": 19,
   "metadata": {},
   "outputs": [],
   "source": [
    "recon_cols = [\n",
    "    'player_id', 'season', 'season_type', 'completions', 'attempts',\n",
    "       'passing_yards', 'passing_tds', 'interceptions', 'sacks', 'sack_yards',\n",
    "       'sack_fumbles', 'sack_fumbles_lost', 'passing_air_yards',\n",
    "       'passing_yards_after_catch', 'passing_first_downs', 'passing_epa', \n",
    "       'passing_2pt_conversions', 'pacr', 'carries', 'rushing_yards',\n",
    "       'rushing_tds', 'rushing_fumbles', 'rushing_fumbles_lost',\n",
    "       'rushing_first_downs', 'rushing_epa', 'rushing_2pt_conversions',\n",
    "       'receptions', 'targets', 'receiving_yards', 'receiving_tds',\n",
    "       'receiving_fumbles', 'receiving_fumbles_lost', 'receiving_air_yards',\n",
    "       'receiving_yards_after_catch', 'receiving_first_downs', 'receiving_epa',\n",
    "       'receiving_2pt_conversions', 'racr', 'target_share', 'air_yards_share',\n",
    "       'special_teams_tds', 'games', \n",
    "]"
   ]
  },
  {
   "cell_type": "markdown",
   "metadata": {},
   "source": [
    "### QB"
   ]
  },
  {
   "cell_type": "code",
   "execution_count": 20,
   "metadata": {},
   "outputs": [],
   "source": [
    "hurts_stats = stats_yearly.loc[stats_yearly.player_id == hurts_id, recon_cols]"
   ]
  },
  {
   "cell_type": "code",
   "execution_count": 21,
   "metadata": {},
   "outputs": [],
   "source": [
    "hurts_stats_24 = stats24_yearly.loc[stats24_yearly.player_id == hurts_id, recon_cols]"
   ]
  },
  {
   "cell_type": "code",
   "execution_count": 22,
   "metadata": {},
   "outputs": [
    {
     "name": "stdout",
     "output_type": "stream",
     "text": [
      "Column: passing_epa, local: 41.36266696927138, nfl: 41.36266696927139\n",
      "Column: pacr, local: 1.0316275764036957, nfl: 15.019307410783203\n"
     ]
    }
   ],
   "source": [
    "peform_recon(hurts_stats, hurts_stats_24, recon_cols)"
   ]
  },
  {
   "cell_type": "markdown",
   "metadata": {},
   "source": [
    "### RB"
   ]
  },
  {
   "cell_type": "code",
   "execution_count": 23,
   "metadata": {},
   "outputs": [
    {
     "name": "stdout",
     "output_type": "stream",
     "text": [
      "Column: rushing_epa, local: 34.099637185807694, nfl: 34.09963718580769\n",
      "Column: racr, local: 2.836734693877551, nfl: 63.15601285378816\n",
      "Column: target_share, local: 0.11405835543766578, nfl: 1.8986643785106443\n",
      "Column: air_yards_share, local: 0.030501089324618737, nfl: 0.40878499509740024\n"
     ]
    }
   ],
   "source": [
    "barkley_stats = stats_yearly.loc[stats_yearly.player_id == barkley_id, recon_cols]\n",
    "barkley_stats_24 = stats24_yearly.loc[stats24_yearly.player_id == barkley_id, recon_cols]\n",
    "peform_recon(barkley_stats, barkley_stats_24, recon_cols)\n"
   ]
  },
  {
   "cell_type": "markdown",
   "metadata": {},
   "source": [
    "### WR"
   ]
  },
  {
   "cell_type": "code",
   "execution_count": 24,
   "metadata": {},
   "outputs": [
    {
     "name": "stdout",
     "output_type": "stream",
     "text": [
      "Column: racr, local: 0.9238013698630136, nfl: 12.590755524689822\n",
      "Column: target_share, local: 0.34275618374558303, nfl: 4.401177992859063\n",
      "Column: air_yards_share, local: 0.47058823529411764, nfl: 6.588092088375764\n"
     ]
    }
   ],
   "source": [
    "brown_stats = stats_yearly.loc[stats_yearly.player_id == brown_id, recon_cols]\n",
    "brown_stats_24 = stats24_yearly.loc[stats24_yearly.player_id == brown_id, recon_cols]\n",
    "peform_recon(brown_stats, brown_stats_24, recon_cols)"
   ]
  }
 ],
 "metadata": {
  "kernelspec": {
   "display_name": "nfl",
   "language": "python",
   "name": "python3"
  },
  "language_info": {
   "codemirror_mode": {
    "name": "ipython",
    "version": 3
   },
   "file_extension": ".py",
   "mimetype": "text/x-python",
   "name": "python",
   "nbconvert_exporter": "python",
   "pygments_lexer": "ipython3",
   "version": "3.9.21"
  }
 },
 "nbformat": 4,
 "nbformat_minor": 2
}
